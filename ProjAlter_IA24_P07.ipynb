{
  "nbformat": 4,
  "nbformat_minor": 0,
  "metadata": {
    "colab": {
      "provenance": [],
      "authorship_tag": "ABX9TyM5ouwHY8JH16FHG2sdNL9Z",
      "include_colab_link": true
    },
    "kernelspec": {
      "name": "python3",
      "display_name": "Python 3"
    },
    "language_info": {
      "name": "python"
    }
  },
  "cells": [
    {
      "cell_type": "markdown",
      "metadata": {
        "id": "view-in-github",
        "colab_type": "text"
      },
      "source": [
        "<a href=\"https://colab.research.google.com/github/danielvilaca/IA24_P07/blob/main/ProjAlter_IA24_P07.ipynb\" target=\"_parent\"><img src=\"https://colab.research.google.com/assets/colab-badge.svg\" alt=\"Open In Colab\"/></a>"
      ]
    },
    {
      "cell_type": "markdown",
      "source": [
        "# Projeto IA24 Grupo 07 (2.0 | Modelo Alternativo)"
      ],
      "metadata": {
        "id": "K48Hw1SWefra"
      }
    },
    {
      "cell_type": "markdown",
      "source": [
        "## Imports"
      ],
      "metadata": {
        "id": "GxzAS8o_uihZ"
      }
    },
    {
      "cell_type": "markdown",
      "source": [
        "\n",
        "\n",
        "*   cp_model: Para definir e resolver problemas de otimização baseados em restrições.\n",
        "*   files: Permite fazer o upload de ficheiros no Google Colab.\n",
        "*   pprint: Usada para imprimir dados em formato mais legível.\n",
        "*   matplotlib.pyplot: Para a gerar gráficos, como o gráfico de Gantt.\n",
        "*   re: Usada para trabalhar com expressões regulares no processamento de texto.\n",
        "\n",
        "\n"
      ],
      "metadata": {
        "id": "QIScwQicegkd"
      }
    },
    {
      "cell_type": "code",
      "source": [
        "# Instalar a biblioteca OR-Tools\n",
        "!pip install ortools\n",
        "\n",
        "# Importar bibliotecas necessárias\n",
        "from ortools.sat.python import cp_model\n",
        "from google.colab import files\n",
        "from pprint import pprint\n",
        "import matplotlib.pyplot as plt\n",
        "import re"
      ],
      "metadata": {
        "id": "rgAhEgHjdJ89",
        "collapsed": true
      },
      "execution_count": null,
      "outputs": []
    },
    {
      "cell_type": "markdown",
      "source": [
        "## Função de Upload do Ficheiro"
      ],
      "metadata": {
        "id": "Vf3H4KEvu1uN"
      }
    },
    {
      "cell_type": "markdown",
      "source": [
        "*    Objetivo: Permite o upload de ficheiros no ambiente do Colab para serem utilizados no processamento de dados.\n",
        "*    files.upload(): Exibe um seletor para fazer o upload dos ficheiros.\n",
        "*    fn: Itera sobre os nomes dos ficheiros enviados."
      ],
      "metadata": {
        "id": "2AbdOLeXu6ku"
      }
    },
    {
      "cell_type": "code",
      "source": [
        "# Função para fazer o upload do file no Colab\n",
        "def upload_file():\n",
        "    uploaded = files.upload()\n",
        "    for fn in uploaded.keys():\n",
        "        print(f'Ficheiro \"{fn}\" enviado com sucesso!')\n",
        "    return list(uploaded.keys())[0]  # Retorna o nome do primeiro ficheiro enviado"
      ],
      "metadata": {
        "id": "bCeQg6zDdLnX"
      },
      "execution_count": 2,
      "outputs": []
    },
    {
      "cell_type": "markdown",
      "source": [
        "## Função para Gerar o Gráfico de Gantt"
      ],
      "metadata": {
        "id": "2j69dhDlvB7Z"
      }
    },
    {
      "cell_type": "markdown",
      "source": [
        "*    Objetivo: Visualizar as tarefas programadas ao longo do tempo, representando sua ordem e duração.\n",
        "*    plt.subplots: Cria uma figura e eixos para o gráfico.\n",
        "*    barh: Gera barras horizontais para representar a duração de cada tarefa.\n",
        "*    ax.grid: Adiciona uma grelha ao gráfico para facilitar a leitura.\n",
        "*    set_xticks e set_yticks: Define os intervalos no eixo X (tempo) e Y (tarefas)."
      ],
      "metadata": {
        "id": "XBOEINC7vCQd"
      }
    },
    {
      "cell_type": "code",
      "source": [
        "# Função para gerar o gráfico de Gantt\n",
        "def gerar_gantt(tarefas, start_times, end_times, solver):\n",
        "    tasks = []\n",
        "    for tarefa in tarefas:\n",
        "        tarefa_id = tarefa['id']\n",
        "        inicio = solver.Value(start_times[tarefa_id])\n",
        "        fim = solver.Value(end_times[tarefa_id])\n",
        "        tasks.append((tarefa_id, inicio, fim))\n",
        "\n",
        "    tasks.sort(key=lambda x: x[1])  # Ordenar pelo início\n",
        "\n",
        "    fig, ax = plt.subplots(figsize=(15, 9))\n",
        "    for i, (tarefa_id, inicio, fim) in enumerate(tasks):\n",
        "        ax.barh(i, fim - inicio, left=inicio, color='skyblue', edgecolor='black', height=0.8)\n",
        "\n",
        "    ax.set_xticks(range(0, 50, 1))\n",
        "    ax.set_yticks(range(len(tasks)))\n",
        "    ax.set_yticklabels([f\"Tarefa {t[0]}\" for t in tasks])\n",
        "    ax.invert_yaxis()\n",
        "    ax.grid(axis='y', linestyle='--', color='gray', alpha=0.5)\n",
        "    ax.grid(axis='x', linestyle='--', color='gray', alpha=0.5)\n",
        "    ax.set_xlabel('Tempo')\n",
        "    ax.set_ylabel('Tarefas')\n",
        "    ax.set_title('Gráfico de Gantt - Sequência das Tarefas')\n",
        "    plt.tight_layout()\n",
        "    plt.show()"
      ],
      "metadata": {
        "id": "191tutOvdU5K"
      },
      "execution_count": null,
      "outputs": []
    },
    {
      "cell_type": "markdown",
      "source": [
        "## Função para Processar o Ficheiro de Entrada (Parsing)"
      ],
      "metadata": {
        "id": "tKa0tTRevKnL"
      }
    },
    {
      "cell_type": "markdown",
      "source": [
        "*    Objetivo: Lê e interpreta o ficheiro de entrada, separando as informações de tarefas, precedências e recursos.\n",
        "*    max_resources: Dicionário para armazenar os recursos disponíveis.\n",
        "*    tarefas: Lista de dicionários, cada um representando uma tarefa com id, duração e recursos necessários.\n",
        "*    precedencies: Dicionário que mapeia cada tarefa às suas predecessoras.\n",
        "Secções do Ficheiro:\n",
        "\n",
        "    *    Recursos: Define a quantidade máxima disponível de cada recurso.\n",
        "    *    Duração e Recursos: Associa as tarefas às suas durações e requisitos de recursos.\n",
        "    *    Relações de Precedência: Especifica quais tarefas devem preceder outras."
      ],
      "metadata": {
        "id": "WF61IkjRvK33"
      }
    },
    {
      "cell_type": "code",
      "source": [
        "# Função para processar o ficheiro de entrada\n",
        "def parse_text_file(file_path):\n",
        "    tarefas = []\n",
        "    precedencies = {}\n",
        "    max_resources = {}\n",
        "\n",
        "    with open(file_path, 'r') as f:\n",
        "        lines = f.readlines()\n",
        "\n",
        "    resource_section = False\n",
        "    task_section = False\n",
        "    precedence_section = False\n",
        "\n",
        "    for line in lines:\n",
        "        line = line.strip()\n",
        "\n",
        "        # Identifica início de secções\n",
        "        if line.startswith('#Resource availability'):\n",
        "            resource_section = True\n",
        "        elif line.startswith('#Duration and resources'):\n",
        "            resource_section = False\n",
        "            task_section = True\n",
        "        elif line.startswith('#Precedence relations'):\n",
        "            task_section = False\n",
        "            precedence_section = True\n",
        "\n",
        "        # Processa a secção de recursos\n",
        "        if resource_section and re.match(r'^\\s*R\\d+', line):\n",
        "            parts = line.split()\n",
        "            resource_type = parts[0]\n",
        "            resource_qty = int(parts[1])\n",
        "            max_resources[resource_type] = resource_qty\n",
        "\n",
        "        # Processa a secção das tarefas\n",
        "        elif task_section and re.match(r'^\\s*\\d+', line):\n",
        "            parts = line.split()\n",
        "            task_id = int(parts[0])\n",
        "            duration = int(parts[2])\n",
        "            task_resources = {f'R{i-2}': int(parts[i]) for i in range(3, len(parts))}\n",
        "            tarefas.append({'id': task_id, 'duration': duration, 'resources': task_resources})\n",
        "\n",
        "        # Processa a secção das precedências\n",
        "        elif precedence_section and re.match(r'^\\s*\\d+', line):\n",
        "            parts = line.split()\n",
        "            task_id = int(parts[0])\n",
        "            successors = list(map(int, parts[3:]))\n",
        "            precedencies[task_id] = successors\n",
        "\n",
        "    return tarefas, precedencies, max_resources"
      ],
      "metadata": {
        "id": "a8G2ulYedYEL"
      },
      "execution_count": null,
      "outputs": []
    },
    {
      "cell_type": "markdown",
      "source": [
        "## Função Principal para Modelar, Resolver e Exibir Resultados"
      ],
      "metadata": {
        "id": "ijXCBr6XvYG8"
      }
    },
    {
      "cell_type": "markdown",
      "source": [
        "*    Objetivo: Cria e resolve o modelo de otimização utilizando OR-Tools, exibindo os resultados e o gráfico de Gantt.\n",
        "*    start_times e end_times: Variáveis que representam os tempos de início e fim de cada tarefa.\n",
        "*    intervals: Lista de intervalos associados a cada tarefa no modelo.\n",
        "*    model.Add: Adiciona restrições de precedência e uso de recursos ao modelo.\n",
        "*    solver: Resolve o problema usando cp_model.CpSolver."
      ],
      "metadata": {
        "id": "BmzyTomLvYYT"
      }
    },
    {
      "cell_type": "code",
      "execution_count": null,
      "metadata": {
        "id": "Wf7KNrexbBbO"
      },
      "outputs": [],
      "source": [
        "# Função principal para criar o modelo, resolver e exibir os resultados\n",
        "def schedule_tasks(file_path):\n",
        "    # Lê o ficheiro e processa as estruturas de dados\n",
        "    tarefas, precedencies, max_resources = parse_text_file(file_path)\n",
        "\n",
        "    print(\"\\nPrecedências:\")\n",
        "    pprint(precedencies)\n",
        "    print(\"\\nRecursos Máximos:\")\n",
        "    pprint(max_resources)\n",
        "    print(\"\\n\")\n",
        "\n",
        "    # Criar modelo do OR-Tools\n",
        "    model = cp_model.CpModel()\n",
        "\n",
        "    # Definir variáveis e intervalos\n",
        "    start_times = {}\n",
        "    end_times = {}\n",
        "    intervals = []\n",
        "    soma_duracoes = sum(tarefa['duration'] for tarefa in tarefas)\n",
        "\n",
        "    for tarefa in tarefas:\n",
        "        tarefa_id = tarefa['id']\n",
        "        duration = tarefa['duration']\n",
        "        start_times[tarefa_id] = model.NewIntVar(0, soma_duracoes, f\"start_{tarefa_id}\")\n",
        "        end_times[tarefa_id] = model.NewIntVar(0, soma_duracoes, f\"end_{tarefa_id}\")\n",
        "        interval = model.NewIntervalVar(start_times[tarefa_id], duration, end_times[tarefa_id], f\"interval_{tarefa_id}\")\n",
        "        intervals.append(interval)\n",
        "\n",
        "    # Adicionar restrições de precedência\n",
        "    for tarefa_id, dependencies in precedencies.items():\n",
        "        for dep in dependencies:\n",
        "            model.Add(end_times[tarefa_id] <= start_times[dep])\n",
        "\n",
        "    # Adicionar restrições dos recursos\n",
        "    for resource, max_qty in max_resources.items():\n",
        "        demands = [tarefa['resources'].get(resource, 0) for tarefa in tarefas]\n",
        "        model.AddCumulative(intervals, demands, max_qty)\n",
        "\n",
        "    # Definir objetivo\n",
        "    duracao_max_projeto = model.NewIntVar(0, 100000000000, \"duracao_max_projeto\")\n",
        "    model.AddMaxEquality(duracao_max_projeto, [end_times[tarefa['id']] for tarefa in tarefas])\n",
        "    model.Minimize(duracao_max_projeto)\n",
        "\n",
        "    # Resolver o modelo\n",
        "    solver = cp_model.CpSolver()\n",
        "    status = solver.Solve(model)\n",
        "\n",
        "    # Exibir resultados\n",
        "    if status == cp_model.OPTIMAL:\n",
        "        print(\"Sequência ótima encontrada:\\n\")\n",
        "    elif status == cp_model.FEASIBLE:\n",
        "        print(\"Sequência viável encontrada:\\n\")\n",
        "\n",
        "    if status == cp_model.OPTIMAL or status == cp_model.FEASIBLE:\n",
        "        print(f\"{'Tarefa':<10} {'Início':>20} {'Término':>10}\")\n",
        "        print(\"-\" * 50)\n",
        "        for tarefa in tarefas:\n",
        "            tarefa_id = tarefa['id']\n",
        "            inicio = solver.Value(start_times[tarefa_id])\n",
        "            fim = solver.Value(end_times[tarefa_id])\n",
        "            print(f\"Tarefa {tarefa_id:<10} {inicio:>10} {fim:>10}\")\n",
        "\n",
        "        gerar_gantt(tarefas, start_times, end_times, solver)\n",
        "        print(f\"\\nDuração do Projeto: {solver.Value(duracao_max_projeto)}\\n\")\n",
        "    else:\n",
        "        print(\"Nenhuma solução encontrada!\")\n",
        "        print(\"Status do solver:\", solver.StatusName(status))\n"
      ]
    },
    {
      "cell_type": "markdown",
      "source": [
        "## Execução Principal"
      ],
      "metadata": {
        "id": "ZLjfcXo-vjBw"
      }
    },
    {
      "cell_type": "markdown",
      "source": [
        "*   upload_file: Faz o upload do ficheiro de entrada para o Colab.\n",
        "*   schedule_tasks: Chama a função principal para processar o ficheiro e resolver o problema."
      ],
      "metadata": {
        "id": "12TQqZjjvjP7"
      }
    },
    {
      "cell_type": "code",
      "source": [
        "# Execução principal\n",
        "file_path = upload_file()  # Faz o upload do ficheiro no Colab\n",
        "schedule_tasks(file_path)  # Processa o ficheiro e gera a solução"
      ],
      "metadata": {
        "id": "ffH7EyDudd4I"
      },
      "execution_count": null,
      "outputs": []
    },
    {
      "cell_type": "markdown",
      "source": [
        "# Referências"
      ],
      "metadata": {
        "id": "uFk2KBwxsh8U"
      }
    },
    {
      "cell_type": "markdown",
      "source": [
        "*   *OR-Tools Documentation*\n",
        "\n",
        "    OR-Tools Documentation. Disponível em:\n",
        "    https://developers.google.com/optimization.\n",
        "\n",
        "*   *Google Colab Documentation*\n",
        "\n",
        "    Google Colab Help Center. Disponível em:\n",
        "    https://colab.research.google.com.\n",
        "\n",
        "*   *CP-SAT Solver Guide*\n",
        "    \n",
        "    Constraint Programming Solver (CP-SAT) Overview. Disponível em:\n",
        "    https://developers.google.com/optimization/cp.\n",
        "\n",
        "*   *Pawel Lichocki - OR-tools*\n",
        "\n",
        "    Disponível em:\n",
        "    https://www.youtube.com/watch?v=AJ6LeiMe_PQ&ab_channel=MixedIntegerProgramming\n",
        "\n",
        "*   *Matplotlib Documentation*\n",
        "\n",
        "    Matplotlib: Visualization with Python. Disponível em:\n",
        "    https://matplotlib.org/stable/contents.html.\n",
        "\n",
        "*   *Python Official Documentation*\n",
        "\n",
        "    The Python Standard Library. Disponível em:\n",
        "    https://docs.python.org/3/library/.\n",
        "\n",
        "\n",
        "*   *Scheduling Optimization Reference*\n",
        "\n",
        "    Pinedo, M. L. Scheduling: Theory, Algorithms, and Systems. 5th Edition, Springer, 2016.\n",
        "\n",
        "*   *Regular Expressions Reference*\n",
        "\n",
        "    Friedl, J. E. F. Mastering Regular Expressions. 3rd Edition, O'Reilly Media, 2006.\n",
        "\n",
        "*   *Gantt Chart Basics*\n",
        "\n",
        "    Wilson, R. Project Management for Engineers and Developers. Elsevier, 2014."
      ],
      "metadata": {
        "id": "b_PSelKcsluu"
      }
    }
  ]
}